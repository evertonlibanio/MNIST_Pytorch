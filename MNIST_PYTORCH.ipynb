{
 "cells": [
  {
   "cell_type": "markdown",
   "id": "694d1bc5",
   "metadata": {},
   "source": [
    "# Goals notebook\n",
    "* predict a digit of each image\n",
    "* using the pytorch framework\n",
    "* and creat a neural network with:\n",
    "\\n\n",
    "\n",
    "\n",
    "    * first layer: input=784; output=500\n",
    "    * hiden layer: input=500; output=10\n",
    "    * output layer: input=10; output="
   ]
  },
  {
   "cell_type": "markdown",
   "id": "43a9542a",
   "metadata": {},
   "source": [
    "### Set-up a conda environment\n",
    "\n",
    "1. Open a Command Prompt (Windows) or a terminal (macOS or Linux)\n",
    "\n",
    "    *Note: If you chose not to add Anaconda to PATH during Anaconda installation above, you will need to use the Anaconda Command Prompt instead.*\n",
    "2. Create a conda environment for PyTorch:\n",
    "    ```Shell\n",
    "    conda create -n pytorch python=3.6\n",
    "    ```\n",
    "3. Activate your new environment:\n",
    "\n",
    "    ```Shell \n",
    "    conda activate pytorch\n",
    "    ```\n",
    "4. Install some supporting dependencies\n",
    "    ```Shell\n",
    "    conda install h5py imageio jupyter matplotlib numpy tqdm\n",
    "    ```\n",
    "\n",
    "5. Install either the CPU version or GPU version of PyTorch:\n",
    "\n",
    "    CPU: *(Recommended as sufficient for this class)*\n",
    "    ```Shell\n",
    "    # Windows/Linux\n",
    "    conda install pytorch torchvision cpuonly -c pytorch\n",
    "    \n",
    "    # macOS\n",
    "    conda install pytorch torchvision -c pytorch\n",
    "    ```\n",
    "    \n",
    "    GPU: (You'll also need to install some [Nvidia software](https://developer.nvidia.com/cuda-10.1-download-archive-base))\n",
    "    ```Shell\n",
    "    # Windows/Linx, assuming CUDA 10.1\n",
    "    conda install pytorch torchvision cudatoolkit=10.1 -c pytorch\n",
    "    \n",
    "    # macOS \n",
    "    # Trickier. May require installing from source. See PyTorch docs.\n",
    "    ```\n",
    "\n",
    "    *Note: If you have GPUs available, you should use the GPU version for any serious research or application, as it can be significantly faster. For the purposes of this demo though, the CPU version is sufficent.*"
   ]
  },
  {
   "cell_type": "code",
   "execution_count": 1,
   "id": "6a27ce4d",
   "metadata": {},
   "outputs": [],
   "source": [
    "# import libray  \n",
    "import numpy as np\n",
    "import torch\n",
    "import torch.nn as nn\n",
    "from torchvision import datasets, transforms\n",
    "from tqdm.notebook import tqdm"
   ]
  },
  {
   "cell_type": "code",
   "execution_count": 2,
   "id": "6a873da5",
   "metadata": {},
   "outputs": [],
   "source": [
    "# Load the dataset Machine learning\n",
    "# composed by 70,000 graysclae images of handwritten digits\n",
    "# dimensions 28x28 = 784 positions cels\n",
    "mnist_train = datasets.MNIST(root=\"./datasets\", train=True, transform=transforms.ToTensor(), download=True)\n",
    "mnist_test = datasets.MNIST(root=\"./datasets\", train=False, transform=transforms.ToTensor(), download=True)"
   ]
  },
  {
   "cell_type": "code",
   "execution_count": 3,
   "id": "4c5f2f70",
   "metadata": {},
   "outputs": [
    {
     "name": "stdout",
     "output_type": "stream",
     "text": [
      "Number of MNIST training examples: 60000\n",
      "Number of MNIST test examples: 10000\n"
     ]
    }
   ],
   "source": [
    "print(\"Number of MNIST training examples: {}\".format(len(mnist_train)))\n",
    "print(\"Number of MNIST test examples: {}\".format(len(mnist_test)))"
   ]
  },
  {
   "cell_type": "code",
   "execution_count": 4,
   "id": "c1fa942d",
   "metadata": {},
   "outputs": [],
   "source": [
    "# the batch size 100 and the train was shuffled\n",
    "train_loader = torch.utils.data.DataLoader(mnist_train, batch_size=100, shuffle=True)\n",
    "test_loader = torch.utils.data.DataLoader(mnist_test, batch_size=100, shuffle=False)"
   ]
  },
  {
   "cell_type": "code",
   "execution_count": 5,
   "id": "ae093dbe",
   "metadata": {},
   "outputs": [
    {
     "name": "stdout",
     "output_type": "stream",
     "text": [
      "Number of MNIST training batch: 600\n",
      "Number of MNIST test batch: 100\n"
     ]
    }
   ],
   "source": [
    "print(\"Number of MNIST training batch: {}\".format(len(train_loader)))\n",
    "print(\"Number of MNIST test batch: {}\".format(len(test_loader)))"
   ]
  },
  {
   "cell_type": "code",
   "execution_count": 6,
   "id": "904277bd",
   "metadata": {},
   "outputs": [
    {
     "name": "stdout",
     "output_type": "stream",
     "text": [
      "model Sequential(\n",
      "  (0): Linear(in_features=784, out_features=500, bias=True)\n",
      "  (1): ReLU()\n",
      "  (2): Linear(in_features=500, out_features=10, bias=True)\n",
      "  (3): Linear(in_features=10, out_features=10, bias=True)\n",
      ")\n"
     ]
    }
   ],
   "source": [
    "## Training \n",
    "# Instantiate model\n",
    "# first layer: input=784; output=500\n",
    "# hiden layer: input=500; output=10\n",
    "# output layer: input=10; output=10\n",
    "model = nn.Sequential(nn.Linear(784,500),\n",
    "                      nn.ReLU(),\n",
    "                      nn.Linear(500,10),\n",
    "                      nn.Linear(10,10)\n",
    "                     )#, # the bellow function was cutted because nn.CrossEntropyLoss() already have this inside\n",
    "                      #nn.Softmax(dim=1)\n",
    "                     #)\n",
    "print('model', model)"
   ]
  },
  {
   "cell_type": "code",
   "execution_count": 7,
   "id": "85bc66c5",
   "metadata": {},
   "outputs": [],
   "source": [
    "# Loss and Optimizer\n",
    "criterion = nn.CrossEntropyLoss()\n",
    "optimizer = torch.optim.SGD(model.parameters(), lr=0.1)"
   ]
  },
  {
   "cell_type": "code",
   "execution_count": 8,
   "id": "66845bc0",
   "metadata": {},
   "outputs": [
    {
     "data": {
      "application/vnd.jupyter.widget-view+json": {
       "model_id": "b966cf7537c748c7bcbcec9dfed5032f",
       "version_major": 2,
       "version_minor": 0
      },
      "text/plain": [
       "  0%|          | 0/600 [00:00<?, ?it/s]"
      ]
     },
     "metadata": {},
     "output_type": "display_data"
    },
    {
     "data": {
      "application/vnd.jupyter.widget-view+json": {
       "model_id": "9e7f3b8654aa48b89563fda9da8744ce",
       "version_major": 2,
       "version_minor": 0
      },
      "text/plain": [
       "  0%|          | 0/100 [00:00<?, ?it/s]"
      ]
     },
     "metadata": {},
     "output_type": "display_data"
    },
    {
     "name": "stdout",
     "output_type": "stream",
     "text": [
      "Test accuracy: 0.9261999726295471\n"
     ]
    }
   ],
   "source": [
    "# Iterate through train set minibatchs \n",
    "for images, labels in tqdm(train_loader):\n",
    "    # Zero out the gradients\n",
    "    optimizer.zero_grad()\n",
    "    \n",
    "    # Forward pass\n",
    "    x = images.view(-1, 28*28)\n",
    "    y = model(x)\n",
    "    # calcule the loss between y and the labels\n",
    "    # Cross Entropy Loss\n",
    "    loss = criterion(y, labels)\n",
    "    # Backward pass\n",
    "    loss.backward()\n",
    "    optimizer.step()\n",
    "    \n",
    "\n",
    "## Testing\n",
    "correct = 0\n",
    "total = len(mnist_test)\n",
    "\n",
    "\n",
    "with torch.no_grad():\n",
    "    # Iterate through test set minibatchs \n",
    "    for images, labels in tqdm(test_loader):\n",
    "        # Forward pass\n",
    "        x = images.view(-1, 28*28)\n",
    "        y = model(x)\n",
    "        \n",
    "        predictions = torch.argmax(y, dim=1)\n",
    "        correct += torch.sum((predictions == labels).float())\n",
    "    \n",
    "print('Test accuracy: {}'.format(correct/total))"
   ]
  },
  {
   "cell_type": "code",
   "execution_count": null,
   "id": "b53f7b54",
   "metadata": {},
   "outputs": [],
   "source": []
  }
 ],
 "metadata": {
  "kernelspec": {
   "display_name": "Python 3 (ipykernel)",
   "language": "python",
   "name": "python3"
  },
  "language_info": {
   "codemirror_mode": {
    "name": "ipython",
    "version": 3
   },
   "file_extension": ".py",
   "mimetype": "text/x-python",
   "name": "python",
   "nbconvert_exporter": "python",
   "pygments_lexer": "ipython3",
   "version": "3.9.12"
  }
 },
 "nbformat": 4,
 "nbformat_minor": 5
}
